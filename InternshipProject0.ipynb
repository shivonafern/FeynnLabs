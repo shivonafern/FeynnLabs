{
  "nbformat": 4,
  "nbformat_minor": 0,
  "metadata": {
    "colab": {
      "provenance": []
    },
    "kernelspec": {
      "name": "python3",
      "display_name": "Python 3"
    },
    "language_info": {
      "name": "python"
    }
  },
  "cells": [
    {
      "cell_type": "code",
      "source": [
        "from google.colab import drive\n",
        "drive.mount('/content/drive')"
      ],
      "metadata": {
        "colab": {
          "base_uri": "https://localhost:8080/"
        },
        "id": "qdDWxo0TNGMK",
        "outputId": "e39d211c-2528-4f84-ae75-7efd2dd21403"
      },
      "execution_count": null,
      "outputs": [
        {
          "output_type": "stream",
          "name": "stdout",
          "text": [
            "Drive already mounted at /content/drive; to attempt to forcibly remount, call drive.mount(\"/content/drive\", force_remount=True).\n"
          ]
        }
      ]
    },
    {
      "cell_type": "code",
      "source": [
        "import datetime\n",
        "import pandas as pd\n",
        "import matplotlib.pyplot as plt\n",
        "import seaborn as sns\n",
        "from sklearn.feature_extraction.text import CountVectorizer\n",
        "from sklearn.metrics.pairwise import cosine_similarity"
      ],
      "metadata": {
        "id": "xxrRj5EV5ajI"
      },
      "execution_count": null,
      "outputs": []
    },
    {
      "cell_type": "code",
      "source": [
        "df=pd.read_csv(\"/content/drive/MyDrive/Internship0/indian_food.csv\")\n",
        "display(df)"
      ],
      "metadata": {
        "colab": {
          "base_uri": "https://localhost:8080/",
          "height": 424
        },
        "id": "GUapazDbTC-3",
        "outputId": "a469b8f7-b8a7-4b7a-9bf0-a20e8b0825bd"
      },
      "execution_count": null,
      "outputs": [
        {
          "output_type": "display_data",
          "data": {
            "text/plain": [
              "               name                                        ingredients  \\\n",
              "0        Balu shahi                    Maida flour, yogurt, oil, sugar   \n",
              "1            Boondi                            Gram flour, ghee, sugar   \n",
              "2    Gajar ka halwa       Carrots, milk, sugar, ghee, cashews, raisins   \n",
              "3            Ghevar  Flour, ghee, kewra, milk, clarified butter, su...   \n",
              "4       Gulab jamun  Milk powder, plain flour, baking powder, ghee,...   \n",
              "..              ...                                                ...   \n",
              "250       Til Pitha            Glutinous rice, black sesame seeds, gur   \n",
              "251         Bebinca  Coconut milk, egg yolks, clarified butter, all...   \n",
              "252          Shufta  Cottage cheese, dry dates, dried rose petals, ...   \n",
              "253       Mawa Bati  Milk powder, dry fruits, arrowroot powder, all...   \n",
              "254          Pinaca  Brown rice, fennel seeds, grated coconut, blac...   \n",
              "\n",
              "           diet  prep_time  cook_time flavor_profile   course  \\\n",
              "0    vegetarian         45         25          sweet  dessert   \n",
              "1    vegetarian         80         30          sweet  dessert   \n",
              "2    vegetarian         15         60          sweet  dessert   \n",
              "3    vegetarian         15         30          sweet  dessert   \n",
              "4    vegetarian         15         40          sweet  dessert   \n",
              "..          ...        ...        ...            ...      ...   \n",
              "250  vegetarian          5         30          sweet  dessert   \n",
              "251  vegetarian         20         60          sweet  dessert   \n",
              "252  vegetarian         -1         -1          sweet  dessert   \n",
              "253  vegetarian         20         45          sweet  dessert   \n",
              "254  vegetarian         -1         -1          sweet  dessert   \n",
              "\n",
              "               state      region  \n",
              "0        West Bengal        East  \n",
              "1          Rajasthan        West  \n",
              "2             Punjab       North  \n",
              "3          Rajasthan        West  \n",
              "4        West Bengal        East  \n",
              "..               ...         ...  \n",
              "250            Assam  North East  \n",
              "251              Goa        West  \n",
              "252  Jammu & Kashmir       North  \n",
              "253   Madhya Pradesh     Central  \n",
              "254              Goa        West  \n",
              "\n",
              "[255 rows x 9 columns]"
            ],
            "text/html": [
              "\n",
              "  <div id=\"df-ee4589cb-528b-4617-bc3b-8225dedc52c0\">\n",
              "    <div class=\"colab-df-container\">\n",
              "      <div>\n",
              "<style scoped>\n",
              "    .dataframe tbody tr th:only-of-type {\n",
              "        vertical-align: middle;\n",
              "    }\n",
              "\n",
              "    .dataframe tbody tr th {\n",
              "        vertical-align: top;\n",
              "    }\n",
              "\n",
              "    .dataframe thead th {\n",
              "        text-align: right;\n",
              "    }\n",
              "</style>\n",
              "<table border=\"1\" class=\"dataframe\">\n",
              "  <thead>\n",
              "    <tr style=\"text-align: right;\">\n",
              "      <th></th>\n",
              "      <th>name</th>\n",
              "      <th>ingredients</th>\n",
              "      <th>diet</th>\n",
              "      <th>prep_time</th>\n",
              "      <th>cook_time</th>\n",
              "      <th>flavor_profile</th>\n",
              "      <th>course</th>\n",
              "      <th>state</th>\n",
              "      <th>region</th>\n",
              "    </tr>\n",
              "  </thead>\n",
              "  <tbody>\n",
              "    <tr>\n",
              "      <th>0</th>\n",
              "      <td>Balu shahi</td>\n",
              "      <td>Maida flour, yogurt, oil, sugar</td>\n",
              "      <td>vegetarian</td>\n",
              "      <td>45</td>\n",
              "      <td>25</td>\n",
              "      <td>sweet</td>\n",
              "      <td>dessert</td>\n",
              "      <td>West Bengal</td>\n",
              "      <td>East</td>\n",
              "    </tr>\n",
              "    <tr>\n",
              "      <th>1</th>\n",
              "      <td>Boondi</td>\n",
              "      <td>Gram flour, ghee, sugar</td>\n",
              "      <td>vegetarian</td>\n",
              "      <td>80</td>\n",
              "      <td>30</td>\n",
              "      <td>sweet</td>\n",
              "      <td>dessert</td>\n",
              "      <td>Rajasthan</td>\n",
              "      <td>West</td>\n",
              "    </tr>\n",
              "    <tr>\n",
              "      <th>2</th>\n",
              "      <td>Gajar ka halwa</td>\n",
              "      <td>Carrots, milk, sugar, ghee, cashews, raisins</td>\n",
              "      <td>vegetarian</td>\n",
              "      <td>15</td>\n",
              "      <td>60</td>\n",
              "      <td>sweet</td>\n",
              "      <td>dessert</td>\n",
              "      <td>Punjab</td>\n",
              "      <td>North</td>\n",
              "    </tr>\n",
              "    <tr>\n",
              "      <th>3</th>\n",
              "      <td>Ghevar</td>\n",
              "      <td>Flour, ghee, kewra, milk, clarified butter, su...</td>\n",
              "      <td>vegetarian</td>\n",
              "      <td>15</td>\n",
              "      <td>30</td>\n",
              "      <td>sweet</td>\n",
              "      <td>dessert</td>\n",
              "      <td>Rajasthan</td>\n",
              "      <td>West</td>\n",
              "    </tr>\n",
              "    <tr>\n",
              "      <th>4</th>\n",
              "      <td>Gulab jamun</td>\n",
              "      <td>Milk powder, plain flour, baking powder, ghee,...</td>\n",
              "      <td>vegetarian</td>\n",
              "      <td>15</td>\n",
              "      <td>40</td>\n",
              "      <td>sweet</td>\n",
              "      <td>dessert</td>\n",
              "      <td>West Bengal</td>\n",
              "      <td>East</td>\n",
              "    </tr>\n",
              "    <tr>\n",
              "      <th>...</th>\n",
              "      <td>...</td>\n",
              "      <td>...</td>\n",
              "      <td>...</td>\n",
              "      <td>...</td>\n",
              "      <td>...</td>\n",
              "      <td>...</td>\n",
              "      <td>...</td>\n",
              "      <td>...</td>\n",
              "      <td>...</td>\n",
              "    </tr>\n",
              "    <tr>\n",
              "      <th>250</th>\n",
              "      <td>Til Pitha</td>\n",
              "      <td>Glutinous rice, black sesame seeds, gur</td>\n",
              "      <td>vegetarian</td>\n",
              "      <td>5</td>\n",
              "      <td>30</td>\n",
              "      <td>sweet</td>\n",
              "      <td>dessert</td>\n",
              "      <td>Assam</td>\n",
              "      <td>North East</td>\n",
              "    </tr>\n",
              "    <tr>\n",
              "      <th>251</th>\n",
              "      <td>Bebinca</td>\n",
              "      <td>Coconut milk, egg yolks, clarified butter, all...</td>\n",
              "      <td>vegetarian</td>\n",
              "      <td>20</td>\n",
              "      <td>60</td>\n",
              "      <td>sweet</td>\n",
              "      <td>dessert</td>\n",
              "      <td>Goa</td>\n",
              "      <td>West</td>\n",
              "    </tr>\n",
              "    <tr>\n",
              "      <th>252</th>\n",
              "      <td>Shufta</td>\n",
              "      <td>Cottage cheese, dry dates, dried rose petals, ...</td>\n",
              "      <td>vegetarian</td>\n",
              "      <td>-1</td>\n",
              "      <td>-1</td>\n",
              "      <td>sweet</td>\n",
              "      <td>dessert</td>\n",
              "      <td>Jammu &amp; Kashmir</td>\n",
              "      <td>North</td>\n",
              "    </tr>\n",
              "    <tr>\n",
              "      <th>253</th>\n",
              "      <td>Mawa Bati</td>\n",
              "      <td>Milk powder, dry fruits, arrowroot powder, all...</td>\n",
              "      <td>vegetarian</td>\n",
              "      <td>20</td>\n",
              "      <td>45</td>\n",
              "      <td>sweet</td>\n",
              "      <td>dessert</td>\n",
              "      <td>Madhya Pradesh</td>\n",
              "      <td>Central</td>\n",
              "    </tr>\n",
              "    <tr>\n",
              "      <th>254</th>\n",
              "      <td>Pinaca</td>\n",
              "      <td>Brown rice, fennel seeds, grated coconut, blac...</td>\n",
              "      <td>vegetarian</td>\n",
              "      <td>-1</td>\n",
              "      <td>-1</td>\n",
              "      <td>sweet</td>\n",
              "      <td>dessert</td>\n",
              "      <td>Goa</td>\n",
              "      <td>West</td>\n",
              "    </tr>\n",
              "  </tbody>\n",
              "</table>\n",
              "<p>255 rows × 9 columns</p>\n",
              "</div>\n",
              "      <button class=\"colab-df-convert\" onclick=\"convertToInteractive('df-ee4589cb-528b-4617-bc3b-8225dedc52c0')\"\n",
              "              title=\"Convert this dataframe to an interactive table.\"\n",
              "              style=\"display:none;\">\n",
              "        \n",
              "  <svg xmlns=\"http://www.w3.org/2000/svg\" height=\"24px\"viewBox=\"0 0 24 24\"\n",
              "       width=\"24px\">\n",
              "    <path d=\"M0 0h24v24H0V0z\" fill=\"none\"/>\n",
              "    <path d=\"M18.56 5.44l.94 2.06.94-2.06 2.06-.94-2.06-.94-.94-2.06-.94 2.06-2.06.94zm-11 1L8.5 8.5l.94-2.06 2.06-.94-2.06-.94L8.5 2.5l-.94 2.06-2.06.94zm10 10l.94 2.06.94-2.06 2.06-.94-2.06-.94-.94-2.06-.94 2.06-2.06.94z\"/><path d=\"M17.41 7.96l-1.37-1.37c-.4-.4-.92-.59-1.43-.59-.52 0-1.04.2-1.43.59L10.3 9.45l-7.72 7.72c-.78.78-.78 2.05 0 2.83L4 21.41c.39.39.9.59 1.41.59.51 0 1.02-.2 1.41-.59l7.78-7.78 2.81-2.81c.8-.78.8-2.07 0-2.86zM5.41 20L4 18.59l7.72-7.72 1.47 1.35L5.41 20z\"/>\n",
              "  </svg>\n",
              "      </button>\n",
              "      \n",
              "  <style>\n",
              "    .colab-df-container {\n",
              "      display:flex;\n",
              "      flex-wrap:wrap;\n",
              "      gap: 12px;\n",
              "    }\n",
              "\n",
              "    .colab-df-convert {\n",
              "      background-color: #E8F0FE;\n",
              "      border: none;\n",
              "      border-radius: 50%;\n",
              "      cursor: pointer;\n",
              "      display: none;\n",
              "      fill: #1967D2;\n",
              "      height: 32px;\n",
              "      padding: 0 0 0 0;\n",
              "      width: 32px;\n",
              "    }\n",
              "\n",
              "    .colab-df-convert:hover {\n",
              "      background-color: #E2EBFA;\n",
              "      box-shadow: 0px 1px 2px rgba(60, 64, 67, 0.3), 0px 1px 3px 1px rgba(60, 64, 67, 0.15);\n",
              "      fill: #174EA6;\n",
              "    }\n",
              "\n",
              "    [theme=dark] .colab-df-convert {\n",
              "      background-color: #3B4455;\n",
              "      fill: #D2E3FC;\n",
              "    }\n",
              "\n",
              "    [theme=dark] .colab-df-convert:hover {\n",
              "      background-color: #434B5C;\n",
              "      box-shadow: 0px 1px 3px 1px rgba(0, 0, 0, 0.15);\n",
              "      filter: drop-shadow(0px 1px 2px rgba(0, 0, 0, 0.3));\n",
              "      fill: #FFFFFF;\n",
              "    }\n",
              "  </style>\n",
              "\n",
              "      <script>\n",
              "        const buttonEl =\n",
              "          document.querySelector('#df-ee4589cb-528b-4617-bc3b-8225dedc52c0 button.colab-df-convert');\n",
              "        buttonEl.style.display =\n",
              "          google.colab.kernel.accessAllowed ? 'block' : 'none';\n",
              "\n",
              "        async function convertToInteractive(key) {\n",
              "          const element = document.querySelector('#df-ee4589cb-528b-4617-bc3b-8225dedc52c0');\n",
              "          const dataTable =\n",
              "            await google.colab.kernel.invokeFunction('convertToInteractive',\n",
              "                                                     [key], {});\n",
              "          if (!dataTable) return;\n",
              "\n",
              "          const docLinkHtml = 'Like what you see? Visit the ' +\n",
              "            '<a target=\"_blank\" href=https://colab.research.google.com/notebooks/data_table.ipynb>data table notebook</a>'\n",
              "            + ' to learn more about interactive tables.';\n",
              "          element.innerHTML = '';\n",
              "          dataTable['output_type'] = 'display_data';\n",
              "          await google.colab.output.renderOutput(dataTable, element);\n",
              "          const docLink = document.createElement('div');\n",
              "          docLink.innerHTML = docLinkHtml;\n",
              "          element.appendChild(docLink);\n",
              "        }\n",
              "      </script>\n",
              "    </div>\n",
              "  </div>\n",
              "  "
            ]
          },
          "metadata": {}
        }
      ]
    },
    {
      "cell_type": "code",
      "source": [
        "print(df.head())"
      ],
      "metadata": {
        "colab": {
          "base_uri": "https://localhost:8080/"
        },
        "id": "9v4cgRLAcd_C",
        "outputId": "82e698dd-0787-4788-803d-156ce23f2c72"
      },
      "execution_count": null,
      "outputs": [
        {
          "output_type": "stream",
          "name": "stdout",
          "text": [
            "             name                                        ingredients  \\\n",
            "0      Balu shahi                    Maida flour, yogurt, oil, sugar   \n",
            "1          Boondi                            Gram flour, ghee, sugar   \n",
            "2  Gajar ka halwa       Carrots, milk, sugar, ghee, cashews, raisins   \n",
            "3          Ghevar  Flour, ghee, kewra, milk, clarified butter, su...   \n",
            "4     Gulab jamun  Milk powder, plain flour, baking powder, ghee,...   \n",
            "\n",
            "         diet  prep_time  cook_time flavor_profile   course        state  \\\n",
            "0  vegetarian         45         25          sweet  dessert  West Bengal   \n",
            "1  vegetarian         80         30          sweet  dessert    Rajasthan   \n",
            "2  vegetarian         15         60          sweet  dessert       Punjab   \n",
            "3  vegetarian         15         30          sweet  dessert    Rajasthan   \n",
            "4  vegetarian         15         40          sweet  dessert  West Bengal   \n",
            "\n",
            "  region  \n",
            "0   East  \n",
            "1   West  \n",
            "2  North  \n",
            "3   West  \n",
            "4   East  \n"
          ]
        }
      ]
    },
    {
      "cell_type": "code",
      "source": [
        "print(df.info())"
      ],
      "metadata": {
        "colab": {
          "base_uri": "https://localhost:8080/"
        },
        "id": "Vrw0k648cd76",
        "outputId": "575ac2b0-52a1-4ee9-9e00-1d78b8f03009"
      },
      "execution_count": null,
      "outputs": [
        {
          "output_type": "stream",
          "name": "stdout",
          "text": [
            "<class 'pandas.core.frame.DataFrame'>\n",
            "RangeIndex: 255 entries, 0 to 254\n",
            "Data columns (total 9 columns):\n",
            " #   Column          Non-Null Count  Dtype \n",
            "---  ------          --------------  ----- \n",
            " 0   name            255 non-null    object\n",
            " 1   ingredients     255 non-null    object\n",
            " 2   diet            255 non-null    object\n",
            " 3   prep_time       255 non-null    int64 \n",
            " 4   cook_time       255 non-null    int64 \n",
            " 5   flavor_profile  255 non-null    object\n",
            " 6   course          255 non-null    object\n",
            " 7   state           255 non-null    object\n",
            " 8   region          254 non-null    object\n",
            "dtypes: int64(2), object(7)\n",
            "memory usage: 18.1+ KB\n",
            "None\n"
          ]
        }
      ]
    },
    {
      "cell_type": "code",
      "source": [
        "print(df.describe())"
      ],
      "metadata": {
        "colab": {
          "base_uri": "https://localhost:8080/"
        },
        "id": "CUnIsCiPcd5X",
        "outputId": "ba4f46dd-f895-4f0e-d7fc-2d71ca8b490f"
      },
      "execution_count": null,
      "outputs": [
        {
          "output_type": "stream",
          "name": "stdout",
          "text": [
            "        prep_time   cook_time\n",
            "count  255.000000  255.000000\n",
            "mean    31.105882   34.529412\n",
            "std     72.554409   48.265650\n",
            "min     -1.000000   -1.000000\n",
            "25%     10.000000   20.000000\n",
            "50%     10.000000   30.000000\n",
            "75%     20.000000   40.000000\n",
            "max    500.000000  720.000000\n"
          ]
        }
      ]
    },
    {
      "cell_type": "code",
      "source": [
        "print(df.nunique())"
      ],
      "metadata": {
        "colab": {
          "base_uri": "https://localhost:8080/"
        },
        "id": "y_ChsPkacd21",
        "outputId": "5988a14c-eb3a-4b49-8bf1-bb376221ef16"
      },
      "execution_count": null,
      "outputs": [
        {
          "output_type": "stream",
          "name": "stdout",
          "text": [
            "name              255\n",
            "ingredients       252\n",
            "diet                2\n",
            "prep_time          22\n",
            "cook_time          19\n",
            "flavor_profile      5\n",
            "course              4\n",
            "state              25\n",
            "region              7\n",
            "dtype: int64\n"
          ]
        }
      ]
    },
    {
      "cell_type": "code",
      "source": [
        "print(df.isnull().sum())"
      ],
      "metadata": {
        "colab": {
          "base_uri": "https://localhost:8080/"
        },
        "id": "GAi9vAHVcd0U",
        "outputId": "823eec94-2ba9-4bb4-9d71-4d20399031a0"
      },
      "execution_count": null,
      "outputs": [
        {
          "output_type": "stream",
          "name": "stdout",
          "text": [
            "name              0\n",
            "ingredients       0\n",
            "diet              0\n",
            "prep_time         0\n",
            "cook_time         0\n",
            "flavor_profile    0\n",
            "course            0\n",
            "state             0\n",
            "region            1\n",
            "dtype: int64\n"
          ]
        }
      ]
    },
    {
      "cell_type": "code",
      "source": [
        "df.hist(bins=10, figsize=(5,5))\n",
        "plt.show()"
      ],
      "metadata": {
        "colab": {
          "base_uri": "https://localhost:8080/",
          "height": 468
        },
        "id": "SZXUFrjccdxu",
        "outputId": "31c9ec4a-2b21-42b3-905d-c69d33528c90"
      },
      "execution_count": null,
      "outputs": [
        {
          "output_type": "display_data",
          "data": {
            "text/plain": [
              "<Figure size 500x500 with 2 Axes>"
            ],
            "image/png": "[encoded data removed]"
          },
          "metadata": {}
        }
      ]
    },
    {
      "cell_type": "code",
      "source": [
        "sns.countplot(x='diet', data=df)\n",
        "plt.show()"
      ],
      "metadata": {
        "colab": {
          "base_uri": "https://localhost:8080/",
          "height": 449
        },
        "id": "Oe-v1vRncvVn",
        "outputId": "9bfe9090-ec7c-4605-d43c-9f6b78374a30"
      },
      "execution_count": null,
      "outputs": [
        {
          "output_type": "display_data",
          "data": {
            "text/plain": [
              "<Figure size 640x480 with 1 Axes>"
            ],
            "image/png": "[encoded data removed]"
          },
          "metadata": {}
        }
      ]
    },
    {
      "cell_type": "code",
      "source": [
        "sns.countplot(x='flavor_profile', data=df)\n",
        "plt.show()"
      ],
      "metadata": {
        "colab": {
          "base_uri": "https://localhost:8080/",
          "height": 450
        },
        "id": "9fr_Y_dNczN3",
        "outputId": "5604205f-c40d-4bdb-c9f6-ac14996e4b26"
      },
      "execution_count": null,
      "outputs": [
        {
          "output_type": "display_data",
          "data": {
            "text/plain": [
              "<Figure size 640x480 with 1 Axes>"
            ],
            "image/png": "[encoded data removed]"
          },
          "metadata": {}
        }
      ]
    },
    {
      "cell_type": "code",
      "source": [
        "sns.countplot(x='course', data=df)\n",
        "plt.show()"
      ],
      "metadata": {
        "colab": {
          "base_uri": "https://localhost:8080/",
          "height": 449
        },
        "id": "nfTnLHcDczKi",
        "outputId": "ff39485a-d63f-446b-9d88-6a1b9ed80250"
      },
      "execution_count": null,
      "outputs": [
        {
          "output_type": "display_data",
          "data": {
            "text/plain": [
              "<Figure size 640x480 with 1 Axes>"
            ],
            "image/png": "[encoded data removed]"
          },
          "metadata": {}
        }
      ]
    },
    {
      "cell_type": "code",
      "source": [
        "sns.countplot(x='region', data=df)\n",
        "plt.show()"
      ],
      "metadata": {
        "colab": {
          "base_uri": "https://localhost:8080/",
          "height": 449
        },
        "id": "iREOlHrmc4Ld",
        "outputId": "c0fc6503-c801-4dde-9fc7-66a1fc2381d0"
      },
      "execution_count": null,
      "outputs": [
        {
          "output_type": "display_data",
          "data": {
            "text/plain": [
              "<Figure size 640x480 with 1 Axes>"
            ],
            "image/png": "[encoded data removed]"
          },
          "metadata": {}
        }
      ]
    },
    {
      "cell_type": "code",
      "source": [
        "corr_matrix = df.corr()\n",
        "sns.heatmap(corr_matrix, annot=True, cmap='coolwarm')\n",
        "plt.show()"
      ],
      "metadata": {
        "colab": {
          "base_uri": "https://localhost:8080/",
          "height": 490
        },
        "id": "PxLyQhHgc4IH",
        "outputId": "bb7f705c-55f9-4530-dfdd-4af87b99aa90"
      },
      "execution_count": null,
      "outputs": [
        {
          "output_type": "stream",
          "name": "stderr",
          "text": [
            "<ipython-input-14-b874e109f562>:1: FutureWarning: The default value of numeric_only in DataFrame.corr is deprecated. In a future version, it will default to False. Select only valid columns or specify the value of numeric_only to silence this warning.\n",
            "  corr_matrix = df.corr()\n"
          ]
        },
        {
          "output_type": "display_data",
          "data": {
            "text/plain": [
              "<Figure size 640x480 with 2 Axes>"
            ],
            "image/png": "[encoded data removed]"
          },
          "metadata": {}
        }
      ]
    },
    {
      "cell_type": "code",
      "source": [
        "def get_time():\n",
        "  currentTime = datetime.datetime.now()\n",
        "  currentTime.hour\n",
        "  if currentTime.hour < 12:\n",
        "      print('Good morning.')\n",
        "  elif 12 <= currentTime.hour < 18:\n",
        "      print('Good afternoon.')\n",
        "  else:\n",
        "      print('Good evening.')"
      ],
      "metadata": {
        "id": "leN91gmV5Xm3"
      },
      "execution_count": null,
      "outputs": []
    },
    {
      "cell_type": "code",
      "source": [
        "def model(desired_ingredients,allergies,diett):\n",
        "  df = pd.read_csv(\"/content/drive/MyDrive/Internship0/indian_food.csv\")\n",
        "  df = df[df['ingredients'].apply(lambda x: all([ingredient in x for ingredient in desired_ingredients]))]\n",
        "  df = df[df['ingredients'].apply(lambda x: not any([allergy in x for allergy in allergies]))]\n",
        "  df = df[df['diet'].apply(lambda x: all([diett in x for diett in diett]))]\n",
        "  cv = CountVectorizer()\n",
        "  ingredient_matrix = cv.fit_transform(df['ingredients'])\n",
        "  cosine_sim = cosine_similarity(ingredient_matrix)\n",
        "  indices = pd.Series(df.index)\n",
        "  top_indices = indices[cosine_sim[0].argsort()[::-1][1:6]]\n",
        "  print('\\nTop recommended dishes:\\n')\n",
        "  for index in top_indices:\n",
        "      print('- ' + df.loc[index]['name'])"
      ],
      "metadata": {
        "id": "y92yu4Nrkk7d"
      },
      "execution_count": null,
      "outputs": []
    },
    {
      "cell_type": "code",
      "source": [
        "def run_chatbot():\n",
        "  get_time()\n",
        "  print(\"Hello!\\nWelcome to the personalized menu recommendation chatbot!\\nYou can ask me to recommend a menu item based on your preferences.\\n\")\n",
        "  while(True):\n",
        "    print(\"\\nPlease enter a number based on your choice\")\n",
        "    print(\"\\n1. If you want a customized recommendation\\n2. If you want a meal to be suggested\\n3. Exit\")\n",
        "    ch=input(\"\\nPlease Enter your choice: \")\n",
        "    if ch=='1':\n",
        "      print(\"\\nDo you have any ingredients you wish your meal to include? (y/n)\")\n",
        "      choice=input()\n",
        "      if choice=='y':\n",
        "        desired_ingredients_str = input('Enter desired ingredients (comma-separated): ')\n",
        "        desired_ingredients = [ingredient.strip() for ingredient in desired_ingredients_str.split(',')]\n",
        "        print(desired_ingredients)    \n",
        "      print(\"\\nDo you have any ingredients you wish to avoid/allergic to? (y/n)\")\n",
        "      choice=input()\n",
        "      if choice=='y':  \n",
        "          allergies = input('Enter undesired ingredients (comma-separated): ')    \n",
        "          allergies=['gluten']\n",
        "          print(allergies)\n",
        "      print(\"\\nDo you have any preferred diet? (y/n)\")\n",
        "      choice=input()\n",
        "      diet='vegeterian'\n",
        "      if choice=='y':\n",
        "        diet=input(\"Enter your diet: \")\n",
        "      model(desired_ingredients,allergies,diet)\n",
        "    elif ch=='2':\n",
        "      pass\n",
        "    elif ch=='3':\n",
        "      print(\"\\nEnd\")\n",
        "      break\n",
        "    else:\n",
        "      print(\"\\nInvalid Choice..Please re-enter input\\n\")\n",
        "      continue"
      ],
      "metadata": {
        "id": "1-tDQGUb5Gb2"
      },
      "execution_count": null,
      "outputs": []
    },
    {
      "cell_type": "code",
      "source": [
        "run_chatbot()"
      ],
      "metadata": {
        "colab": {
          "base_uri": "https://localhost:8080/"
        },
        "id": "KHID9t2l5olr",
        "outputId": "5355ea59-fc32-4540-9bda-06e78106b69f"
      },
      "execution_count": null,
      "outputs": [
        {
          "output_type": "stream",
          "name": "stdout",
          "text": [
            "Good evening.\n",
            "Hello!\n",
            "Welcome to the personalized menu recommendation chatbot!\n",
            "You can ask me to recommend a menu item based on your preferences.\n",
            "\n",
            "\n",
            "Please enter a number based on your choice\n",
            "\n",
            "1. If you want a customized recommendation\n",
            "2. If you want a meal to be suggested\n",
            "3. Exit\n",
            "\n",
            "Please Enter your choice: 1\n",
            "\n",
            "Do you have any ingredients you wish your meal to include? (y/n)\n",
            "y\n",
            "Enter desired ingredients (comma-separated): sugar,ghee\n",
            "['sugar', 'ghee']\n",
            "\n",
            "Do you have any ingredients you wish to avoid/allergic to? (y/n)\n",
            "y\n",
            "Enter undesired ingredients (comma-separated): gluten\n",
            "['gluten']\n",
            "\n",
            "Do you have any preferred diet? (y/n)\n",
            "n\n",
            "\n",
            "Top recommended dishes:\n",
            "\n",
            "- Laddu\n",
            "- Sohan papdi\n",
            "- Pantua\n",
            "- Mihidana\n",
            "- Pootharekulu\n",
            "\n",
            "Please enter a number based on your choice\n",
            "\n",
            "1. If you want a customized recommendation\n",
            "2. If you want a meal to be suggested\n",
            "3. Exit\n",
            "\n",
            "Please Enter your choice: 3\n",
            "\n",
            "End\n"
          ]
        }
      ]
    }
  ]
}